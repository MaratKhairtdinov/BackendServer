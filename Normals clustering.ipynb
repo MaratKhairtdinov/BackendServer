{
 "cells": [
  {
   "cell_type": "code",
   "execution_count": null,
   "metadata": {},
   "outputs": [],
   "source": [
    "import open3d as o3d\n",
    "import numpy as np\n",
    "import copy\n",
    "import matplotlib.pyplot as plt\n",
    "import math\n",
    "import time\n",
    "\n",
    "pointcloud = o3d.io.read_point_cloud(\"FilteredPointcloud.pcd\")\n",
    "points = np.asarray(pointcloud.points)\n",
    "normals= np.asarray(pointcloud.normals)\n",
    "print(np.shape(normals))\n",
    "\n",
    "normals_sphere = o3d.geometry.PointCloud(points = o3d.utility.Vector3dVector(normals))\n",
    "normals_sphere.normals = o3d.utility.Vector3dVector(points)\n",
    "\n",
    "pcd = o3d.geometry.PointCloud(points = o3d.utility.Vector3dVector(np.asarray(normals_sphere.normals)))\n",
    "pcd.normals = o3d.utility.Vector3dVector(np.asarray(normals_sphere.points))\n",
    "normals_sphere.paint_uniform_color([0,1,.5])\n",
    "\n",
    "#labels = np.array(normals_sphere.cluster_dbscan(eps=.05, min_points=10, print_progress=True))\n",
    "                  \n",
    "def custom_draw_geometry(pcd):\n",
    "    # The following code achieves the same effect as:\n",
    "    # o3d.visualization.draw_geometries([pcd])\n",
    "    vis = o3d.visualization.Visualizer()\n",
    "    vis.create_window()\n",
    "    vis.add_geometry(pcd)\n",
    "    vis.run()\n",
    "    vis.destroy_window()\n",
    "custom_draw_geometry(pointcloud)\n",
    "custom_draw_geometry(normals_sphere)\n",
    "custom_draw_geometry(pcd)"
   ]
  },
  {
   "cell_type": "code",
   "execution_count": null,
   "metadata": {},
   "outputs": [],
   "source": []
  }
 ],
 "metadata": {
  "kernelspec": {
   "display_name": "Python 3",
   "language": "python",
   "name": "python3"
  },
  "language_info": {
   "codemirror_mode": {
    "name": "ipython",
    "version": 3
   },
   "file_extension": ".py",
   "mimetype": "text/x-python",
   "name": "python",
   "nbconvert_exporter": "python",
   "pygments_lexer": "ipython3",
   "version": "3.8.3"
  }
 },
 "nbformat": 4,
 "nbformat_minor": 4
}
