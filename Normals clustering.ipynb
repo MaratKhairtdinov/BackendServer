{
 "cells": [
  {
   "cell_type": "code",
   "execution_count": 9,
   "metadata": {},
   "outputs": [
    {
     "name": "stdout",
     "output_type": "stream",
     "text": [
      "(107623, 3)\n",
      "point cloud has 10 clusters\n"
     ]
    }
   ],
   "source": [
    "import open3d as o3d\n",
    "import numpy as np\n",
    "import copy\n",
    "import matplotlib.pyplot as plt\n",
    "import math\n",
    "import time\n",
    "\n",
    "show_normals = False\n",
    "\n",
    "pointcloud = o3d.io.read_point_cloud(\"ReceivedPointcloud.pcd\")\n",
    "\n",
    "o3d.visualization.draw_geometries([pointcloud], top = 30, left = 0, point_show_normal=show_normals)\n",
    "\n",
    "points = np.asarray(pointcloud.points)\n",
    "normals= np.asarray(pointcloud.normals)\n",
    "#print(np.shape(normals))\n",
    "\n",
    "normals_sphere = o3d.geometry.PointCloud(points = o3d.utility.Vector3dVector(normals))\n",
    "normals_sphere.normals = o3d.utility.Vector3dVector(points)\n",
    "\n",
    "pcd = o3d.geometry.PointCloud(points = o3d.utility.Vector3dVector(np.asarray(normals_sphere.normals)))\n",
    "pcd.normals = o3d.utility.Vector3dVector(np.asarray(normals_sphere.points))\n",
    "#normals_sphere.paint_uniform_color([0,1,.5])\n",
    "print(np.shape(points))\n",
    "\n",
    "labels = np.array(normals_sphere.cluster_dbscan(eps=0.02, min_points=100, print_progress=True))\n",
    "\n",
    "max_label = labels.max()\n",
    "print(f\"point cloud has {max_label + 1} clusters\")\n",
    "\n",
    "filtered_normals = np.asarray(normals_sphere.points)[labels>=0]\n",
    "filtered_points = np.asarray(normals_sphere.normals)[labels>=0]\n",
    "\n",
    "filtered_sphere = o3d.geometry.PointCloud(points = o3d.utility.Vector3dVector(filtered_normals))\n",
    "filtered_sphere.normals = o3d.utility.Vector3dVector(filtered_points)\n",
    "\n",
    "#filtered_sphere.paint_uniform_color([0,1,.5])\n",
    "\n",
    "\n",
    "\n",
    "o3d.visualization.draw_geometries([normals_sphere],  top = 30, left = 0, point_show_normal=False)\n",
    "o3d.visualization.draw_geometries([filtered_sphere], top = 30, left = 0, point_show_normal=False)\n",
    "\n",
    "filtered_pointcloud = o3d.geometry.PointCloud(points = o3d.utility.Vector3dVector(filtered_points))\n",
    "filtered_pointcloud.normals = o3d.utility.Vector3dVector(filtered_normals)\n",
    "\n",
    "o3d.io.write_point_cloud(\"FilteredPointcloud.pcd\", filtered_pointcloud, False, False, True)\n",
    "o3d.visualization.draw_geometries([filtered_pointcloud], top = 30, left = 0, point_show_normal=show_normals)"
   ]
  },
  {
   "cell_type": "code",
   "execution_count": null,
   "metadata": {},
   "outputs": [],
   "source": []
  }
 ],
 "metadata": {
  "kernelspec": {
   "display_name": "Python 3",
   "language": "python",
   "name": "python3"
  },
  "language_info": {
   "codemirror_mode": {
    "name": "ipython",
    "version": 3
   },
   "file_extension": ".py",
   "mimetype": "text/x-python",
   "name": "python",
   "nbconvert_exporter": "python",
   "pygments_lexer": "ipython3",
   "version": "3.8.3"
  }
 },
 "nbformat": 4,
 "nbformat_minor": 4
}
