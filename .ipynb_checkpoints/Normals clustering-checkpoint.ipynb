{
 "cells": [
  {
   "cell_type": "code",
   "execution_count": 1,
   "metadata": {},
   "outputs": [
    {
     "name": "stdout",
     "output_type": "stream",
     "text": [
      "(107623, 3)\n",
      "point cloud has 10 clusters\n"
     ]
    },
    {
     "ename": "TypeError",
     "evalue": "rotate(): incompatible function arguments. The following argument types are supported:\n    1. (self: open3d.open3d_pybind.visualization.ViewControl, x: float, y: float, xo: float = 0.0, yo: float = 0.0) -> None\n\nInvoked with: ViewControl; kwargs: x=-100, y=-100, x0=0, y0=0",
     "output_type": "error",
     "traceback": [
      "\u001b[1;31m---------------------------------------------------------------------------\u001b[0m",
      "\u001b[1;31mTypeError\u001b[0m                                 Traceback (most recent call last)",
      "\u001b[1;32m<ipython-input-1-352ce0b1e2c2>\u001b[0m in \u001b[0;36m<module>\u001b[1;34m\u001b[0m\n\u001b[0;32m     62\u001b[0m \u001b[0mo3d\u001b[0m\u001b[1;33m.\u001b[0m\u001b[0mio\u001b[0m\u001b[1;33m.\u001b[0m\u001b[0mwrite_point_cloud\u001b[0m\u001b[1;33m(\u001b[0m\u001b[1;34m\"FilteredPointcloud.pcd\"\u001b[0m\u001b[1;33m,\u001b[0m \u001b[0mfiltered_pointcloud\u001b[0m\u001b[1;33m,\u001b[0m \u001b[1;32mFalse\u001b[0m\u001b[1;33m,\u001b[0m \u001b[1;32mFalse\u001b[0m\u001b[1;33m,\u001b[0m \u001b[1;32mTrue\u001b[0m\u001b[1;33m)\u001b[0m\u001b[1;33m\u001b[0m\u001b[1;33m\u001b[0m\u001b[0m\n\u001b[0;32m     63\u001b[0m \u001b[1;33m\u001b[0m\u001b[0m\n\u001b[1;32m---> 64\u001b[1;33m \u001b[0mcustom_draw_geometry_with_custom_fov\u001b[0m\u001b[1;33m(\u001b[0m\u001b[0mfiltered_pointcloud\u001b[0m\u001b[1;33m,\u001b[0m \u001b[1;33m-\u001b[0m\u001b[1;36m60\u001b[0m\u001b[1;33m)\u001b[0m\u001b[1;33m\u001b[0m\u001b[1;33m\u001b[0m\u001b[0m\n\u001b[0m\u001b[0;32m     65\u001b[0m \u001b[1;33m\u001b[0m\u001b[0m\n\u001b[0;32m     66\u001b[0m \u001b[1;31m#o3d.visualization.draw_geometries([filtered_pointcloud], top = 30, left = 0, point_show_normal=show_normals)\u001b[0m\u001b[1;33m\u001b[0m\u001b[1;33m\u001b[0m\u001b[1;33m\u001b[0m\u001b[0m\n",
      "\u001b[1;32m<ipython-input-1-352ce0b1e2c2>\u001b[0m in \u001b[0;36mcustom_draw_geometry_with_custom_fov\u001b[1;34m(pcd, fov_step)\u001b[0m\n\u001b[0;32m     13\u001b[0m     \u001b[0mctr\u001b[0m \u001b[1;33m=\u001b[0m \u001b[0mvis\u001b[0m\u001b[1;33m.\u001b[0m\u001b[0mget_view_control\u001b[0m\u001b[1;33m(\u001b[0m\u001b[1;33m)\u001b[0m\u001b[1;33m\u001b[0m\u001b[1;33m\u001b[0m\u001b[0m\n\u001b[0;32m     14\u001b[0m \u001b[1;33m\u001b[0m\u001b[0m\n\u001b[1;32m---> 15\u001b[1;33m     \u001b[0mctr\u001b[0m\u001b[1;33m.\u001b[0m\u001b[0mrotate\u001b[0m\u001b[1;33m(\u001b[0m\u001b[0mx\u001b[0m\u001b[1;33m=\u001b[0m\u001b[1;33m-\u001b[0m\u001b[1;36m100\u001b[0m\u001b[1;33m,\u001b[0m \u001b[0my\u001b[0m\u001b[1;33m=\u001b[0m\u001b[1;33m-\u001b[0m\u001b[1;36m100\u001b[0m\u001b[1;33m,\u001b[0m \u001b[0mx0\u001b[0m\u001b[1;33m=\u001b[0m\u001b[1;36m0\u001b[0m\u001b[1;33m,\u001b[0m \u001b[0my0\u001b[0m\u001b[1;33m=\u001b[0m\u001b[1;36m0\u001b[0m\u001b[1;33m)\u001b[0m\u001b[1;33m\u001b[0m\u001b[1;33m\u001b[0m\u001b[0m\n\u001b[0m\u001b[0;32m     16\u001b[0m \u001b[1;33m\u001b[0m\u001b[0m\n\u001b[0;32m     17\u001b[0m     \u001b[0mprint\u001b[0m\u001b[1;33m(\u001b[0m\u001b[1;34m\"Field of view (before changing) %.2f\"\u001b[0m \u001b[1;33m%\u001b[0m \u001b[0mctr\u001b[0m\u001b[1;33m.\u001b[0m\u001b[0mget_field_of_view\u001b[0m\u001b[1;33m(\u001b[0m\u001b[1;33m)\u001b[0m\u001b[1;33m)\u001b[0m\u001b[1;33m\u001b[0m\u001b[1;33m\u001b[0m\u001b[0m\n",
      "\u001b[1;31mTypeError\u001b[0m: rotate(): incompatible function arguments. The following argument types are supported:\n    1. (self: open3d.open3d_pybind.visualization.ViewControl, x: float, y: float, xo: float = 0.0, yo: float = 0.0) -> None\n\nInvoked with: ViewControl; kwargs: x=-100, y=-100, x0=0, y0=0"
     ]
    }
   ],
   "source": [
    "import open3d as o3d\n",
    "import numpy as np\n",
    "import copy\n",
    "import matplotlib.pyplot as plt\n",
    "import math\n",
    "import time\n",
    "\n",
    "show_normals = False\n",
    "\n",
    "pointcloud = o3d.io.read_point_cloud(\"ReceivedPointcloud.pcd\")\n",
    "\n",
    "o3d.visualization.draw_geometries([pointcloud], top = 30, left = 0, point_show_normal=show_normals)\n",
    "\n",
    "points = np.asarray(pointcloud.points)\n",
    "normals= np.asarray(pointcloud.normals)\n",
    "#print(np.shape(normals))\n",
    "\n",
    "normals_sphere = o3d.geometry.PointCloud(points = o3d.utility.Vector3dVector(normals))\n",
    "normals_sphere.normals = o3d.utility.Vector3dVector(points)\n",
    "\n",
    "pcd = o3d.geometry.PointCloud(points = o3d.utility.Vector3dVector(np.asarray(normals_sphere.normals)))\n",
    "pcd.normals = o3d.utility.Vector3dVector(np.asarray(normals_sphere.points))\n",
    "#normals_sphere.paint_uniform_color([0,1,.5])\n",
    "print(np.shape(points))\n",
    "\n",
    "labels = np.array(normals_sphere.cluster_dbscan(eps=0.02, min_points=100, print_progress=True))\n",
    "\n",
    "max_label = labels.max()\n",
    "print(f\"point cloud has {max_label + 1} clusters\")\n",
    "\n",
    "filtered_normals = np.asarray(normals_sphere.points)[labels>=0]\n",
    "filtered_points = np.asarray(normals_sphere.normals)[labels>=0]\n",
    "\n",
    "filtered_sphere = o3d.geometry.PointCloud(points = o3d.utility.Vector3dVector(filtered_normals))\n",
    "filtered_sphere.normals = o3d.utility.Vector3dVector(filtered_points)\n",
    "\n",
    "#filtered_sphere.paint_uniform_color([0,1,.5])\n",
    "\n",
    "\n",
    "\n",
    "o3d.visualization.draw_geometries([normals_sphere],  top = 30, left = 0, point_show_normal=False)\n",
    "o3d.visualization.draw_geometries([filtered_sphere], top = 30, left = 0, point_show_normal=False)\n",
    "\n",
    "filtered_pointcloud = o3d.geometry.PointCloud(points = o3d.utility.Vector3dVector(filtered_points))\n",
    "filtered_pointcloud.normals = o3d.utility.Vector3dVector(filtered_normals)\n",
    "\n",
    "o3d.io.write_point_cloud(\"FilteredPointcloud.pcd\", filtered_pointcloud, False, False, True)\n",
    "o3d.visualization.draw_geometries([filtered_pointcloud], top = 30, left = 0, point_show_normal=show_normals)"
   ]
  },
  {
   "cell_type": "code",
   "execution_count": null,
   "metadata": {},
   "outputs": [],
   "source": []
  },
  {
   "cell_type": "code",
   "execution_count": null,
   "metadata": {},
   "outputs": [],
   "source": []
  }
 ],
 "metadata": {
  "kernelspec": {
   "display_name": "Python 3",
   "language": "python",
   "name": "python3"
  },
  "language_info": {
   "codemirror_mode": {
    "name": "ipython",
    "version": 3
   },
   "file_extension": ".py",
   "mimetype": "text/x-python",
   "name": "python",
   "nbconvert_exporter": "python",
   "pygments_lexer": "ipython3",
   "version": "3.8.3"
  }
 },
 "nbformat": 4,
 "nbformat_minor": 4
}
