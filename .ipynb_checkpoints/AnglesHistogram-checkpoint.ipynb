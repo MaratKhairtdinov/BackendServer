{
 "cells": [
  {
   "cell_type": "code",
   "execution_count": 226,
   "metadata": {},
   "outputs": [
    {
     "name": "stderr",
     "output_type": "stream",
     "text": [
      "<ipython-input-226-bb9d8e28b183>:25: RuntimeWarning: invalid value encountered in double_scalars\n",
      "  azimuth = np.degrees(np.arccos(vector[0]/xy_proj_magn))\n",
      "<ipython-input-226-bb9d8e28b183>:26: RuntimeWarning: invalid value encountered in double_scalars\n",
      "  elevation = np.degrees(np.arcsin(vector[2]/magnitude))\n"
     ]
    },
    {
     "data": {
      "image/png": "[encoded data removed]",
      "text/plain": [
       "<Figure size 432x288 with 1 Axes>"
      ]
     },
     "metadata": {
      "needs_background": "light"
     },
     "output_type": "display_data"
    }
   ],
   "source": [
    "import open3d as o3d\n",
    "import numpy as np\n",
    "import copy\n",
    "import matplotlib.pyplot as plt\n",
    "import math\n",
    "\n",
    "pointcloud = o3d.io.read_point_cloud(\"ReceivedPointcloud.pcd\")\n",
    "\n",
    "points  = np.asarray(pointcloud.points)\n",
    "normals = np.asarray(pointcloud.normals)\n",
    "\n",
    "class PointcloudFilter:\n",
    "    def __init__(self):\n",
    "        self.points_normals_angles = None\n",
    "        self.pointcloud = None\n",
    "        self.points     = None\n",
    "        self.normals    = None\n",
    "        self.errorLog = \"\"\n",
    "        \n",
    "    def get_vector_angles(self, vector):\n",
    "        xy_proj = vector[0:2]\n",
    "        xy_proj_magn = np.sqrt(xy_proj.dot(xy_proj))\n",
    "        magnitude = np.sqrt(vector.dot(vector))\n",
    "\n",
    "        azimuth = np.degrees(np.arccos(vector[0]/xy_proj_magn))\n",
    "        elevation = np.degrees(np.arcsin(vector[2]/magnitude))\n",
    "\n",
    "        if vector[1]<0:\n",
    "            azimuth = 360 - azimuth\n",
    "        return azimuth, elevation\n",
    "    \n",
    "    def extract_spherical_coordinates(self, pointcloud):\n",
    "        self.points_normals_angles = []\n",
    "        self.pointcloud = pointcloud\n",
    "        self.points = np.asarray(self.pointcloud.points)\n",
    "        self.normals = np.asarray(self.pointcloud.normals)        \n",
    "        for i in range(len(normals)):\n",
    "            try:\n",
    "                azimuth, elevation = self.get_vector_angles(self.normals[i])        \n",
    "                if math.isnan(azimuth) or math.isnan(elevation):            \n",
    "                    continue                \n",
    "                self.points_normals_angles.append([self.points[i], self.normals[i], azimuth, elevation])\n",
    "            except Exception:\n",
    "                self.errorLog+=f\"{i} WRONG\\n\"        \n",
    "        self.points_normals_angles = np.array(self.points_normals_angles)\n",
    "        \n",
    "        \n",
    "    def filter_angles(self, histogram, histogram_edges, threshold):\n",
    "        angle_filter = histogram > threshold\n",
    "        filtered_points = []        \n",
    "        for i in range(len(self.points_normals_angles)):\n",
    "            for j in range(len(angle_filter)):        \n",
    "                if angle_filter[j]:            \n",
    "                    angle = self.points_normals_angles[i,3]\n",
    "                    if angle >= histogram_edges[j] and angle < histogram_edges[j+1]:\n",
    "                        filtered_points.append(self.points_normals_angles[i,:])                        \n",
    "        self.points_normals_angles = np.array(filtered_points)\n",
    "        \n",
    "        plt.figure()\n",
    "        plt.plot(histogram_edges[: -1], histogram, color=\"red\", label = \"Histogram\")\n",
    "        #plt.plot(azimuths_bin_edges[:-1], hist_azimuths, color=\"green\", label = \"Asimuths histogram\")\n",
    "        #plt.hist(elevations, bins = elevations_bin_edges)\n",
    "        #plt.hist(azimuths, bins = azimuths_bin_edges)\n",
    "        plt.xlabel(\"Degrees\")\n",
    "        plt.ylabel(\"Vectors\")\n",
    "        plt.grid()\n",
    "        plt.legend()\n",
    "        plt.title(\"Histogram\")\n",
    "        plt.show()        \n",
    "        \n",
    "    def filter_points(self, tolerance):        \n",
    "        azimuths = self.points_normals_angles[:,2]\n",
    "        elevations = self.points_normals_angles[:,3]\n",
    "        bins_=int(360/tolerance)\n",
    "        \n",
    "        hist_elevations, elevations_bin_edges = np.histogram(elevations, bins = bins_, density = True)\n",
    "        hist_azimuths,   azimuths_bin_edges   = np.histogram(azimuths,   bins = bins_, density = True)\n",
    "        \n",
    "        #self.filter_angles(hist_elevations, elevations_bin_edges, 0.015)       \n",
    "        self.filter_angles(hist_azimuths, azimuths_bin_edges, 0.001)\n",
    "        \n",
    "    def save_filtered_pointcloud(self):\n",
    "        filtered_pointcloud = o3d.geometry.PointCloud(points = o3d.utility.Vector3dVector(np.empty([0,3])))\n",
    "        \n",
    "        filtered_pointcloud.points  = o3d.utility.Vector3dVector(self.points_normals_angles[:,0])\n",
    "        filtered_pointcloud.normals = o3d.utility.Vector3dVector(self.points_normals_angles[:,1])\n",
    "        \n",
    "        o3d.visualization.draw_geometries([filtered_pointcloud], top = 30, left = 0, point_show_normal=True)\n",
    "        o3d.io.write_point_cloud(\"FilteredPointcloud.pcd\", filtered_pointcloud, False, False, True)\n",
    "\n",
    "pointcloud_filter = PointcloudFilter()\n",
    "pointcloud_filter.extract_spherical_coordinates(pointcloud)\n",
    "pointcloud_filter.filter_points(6)\n",
    "pointcloud_filter.save_filtered_pointcloud()\n",
    "\n"
   ]
  },
  {
   "cell_type": "code",
   "execution_count": null,
   "metadata": {},
   "outputs": [],
   "source": []
  }
 ],
 "metadata": {
  "kernelspec": {
   "display_name": "Python 3",
   "language": "python",
   "name": "python3"
  },
  "language_info": {
   "codemirror_mode": {
    "name": "ipython",
    "version": 3
   },
   "file_extension": ".py",
   "mimetype": "text/x-python",
   "name": "python",
   "nbconvert_exporter": "python",
   "pygments_lexer": "ipython3",
   "version": "3.8.3"
  }
 },
 "nbformat": 4,
 "nbformat_minor": 4
}
