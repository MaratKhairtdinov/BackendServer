{
 "cells": [
  {
   "cell_type": "code",
   "execution_count": 6,
   "metadata": {},
   "outputs": [
    {
     "name": "stderr",
     "output_type": "stream",
     "text": [
      "<ipython-input-6-d2bdfe0b2046>:26: RuntimeWarning: invalid value encountered in double_scalars\n",
      "  azimuth = np.degrees(np.arccos(vector[0]/xy_proj_magn))\n",
      "<ipython-input-6-d2bdfe0b2046>:27: RuntimeWarning: invalid value encountered in double_scalars\n",
      "  elevation = np.degrees(np.arcsin(vector[2]/magnitude))\n"
     ]
    },
    {
     "name": "stdout",
     "output_type": "stream",
     "text": [
      "1.765625\n"
     ]
    },
    {
     "data": {
      "image/png": "[encoded data removed]",
      "text/plain": [
       "<Figure size 432x288 with 2 Axes>"
      ]
     },
     "metadata": {
      "needs_background": "light"
     },
     "output_type": "display_data"
    }
   ],
   "source": [
    "import open3d as o3d\n",
    "import numpy as np\n",
    "import copy\n",
    "import matplotlib.pyplot as plt\n",
    "import math\n",
    "import time\n",
    "\n",
    "pointcloud = o3d.io.read_point_cloud(\"ReceivedPointcloud.pcd\")\n",
    "\n",
    "points  = np.asarray(pointcloud.points)\n",
    "normals = np.asarray(pointcloud.normals)\n",
    "\n",
    "class PointcloudFilter:\n",
    "    def __init__(self):\n",
    "        self.points_normals_angles = None\n",
    "        self.pointcloud = None\n",
    "        self.points     = None\n",
    "        self.normals    = None\n",
    "        self.errorLog   = \"\"\n",
    "        \n",
    "    def get_vector_angles(self, vector):\n",
    "        xy_proj = vector[0:2]\n",
    "        xy_proj_magn = np.sqrt(xy_proj.dot(xy_proj))\n",
    "        magnitude = np.sqrt(vector.dot(vector))\n",
    "\n",
    "        azimuth = np.degrees(np.arccos(vector[0]/xy_proj_magn))\n",
    "        elevation = np.degrees(np.arcsin(vector[2]/magnitude))\n",
    "\n",
    "        if vector[1]<0:\n",
    "            azimuth = 360 - azimuth\n",
    "        return azimuth, elevation\n",
    "    \n",
    "    def extract_spherical_coordinates(self, pointcloud):\n",
    "        self.points_normals_angles = []\n",
    "        self.pointcloud = pointcloud\n",
    "        self.points = np.asarray(self.pointcloud.points)\n",
    "        self.normals = np.asarray(self.pointcloud.normals)\n",
    "        last_time = time.process_time()\n",
    "        for i in range(len(normals)):\n",
    "            try:\n",
    "                azimuth, elevation = self.get_vector_angles(self.normals[i])        \n",
    "                if math.isnan(azimuth) or math.isnan(elevation):            \n",
    "                    continue                \n",
    "                self.points_normals_angles.append([self.points[i], self.normals[i], azimuth, elevation])\n",
    "            except Exception:\n",
    "                self.errorLog+=f\"{i} WRONG\\n\"        \n",
    "        self.points_normals_angles = np.array(self.points_normals_angles)\n",
    "        print(time.process_time()-last_time)\n",
    "        \n",
    "    def filter_angles(self, histogram, histogram_edges, threshold):\n",
    "        angle_filter = histogram > threshold\n",
    "        filtered_points = []        \n",
    "        for i in range(len(self.points_normals_angles)):\n",
    "            for j in range(len(angle_filter)):        \n",
    "                if angle_filter[j]:            \n",
    "                    angle = self.points_normals_angles[i,3]\n",
    "                    if angle >= histogram_edges[j] and angle < histogram_edges[j+1]:\n",
    "                        filtered_points.append(self.points_normals_angles[i,:])                        \n",
    "        self.points_normals_angles = np.array(filtered_points)\n",
    "        \n",
    "    def calculate_histograms(self, tolerance):\n",
    "        azimuths   = self.points_normals_angles[:,2]\n",
    "        elevations = self.points_normals_angles[:,3]\n",
    "        bins_ = int(360/tolerance)\n",
    "        \n",
    "        self.hist_elevations, self.elevations_bin_edges = np.histogram(elevations, bins = bins_, density = True)\n",
    "        self.hist_azimuths,   self.azimuths_bin_edges   = np.histogram(azimuths,   bins = bins_, density = True)\n",
    "        \n",
    "        \n",
    "    def filter_points(self, tolerance):\n",
    "        self.calculate_histograms(tolerance)       \n",
    "        \n",
    "        self.filter_angles(self.hist_elevations, self.elevations_bin_edges, 0.005)       \n",
    "        #self.filter_angles(self.hist_azimuths,   self.azimuths_bin_edges,   0.003)\n",
    "        \n",
    "    def save_filtered_pointcloud(self):\n",
    "        filtered_pointcloud = o3d.geometry.PointCloud(points = o3d.utility.Vector3dVector(np.empty([0,3])))\n",
    "        \n",
    "        filtered_pointcloud.points  = o3d.utility.Vector3dVector(self.points_normals_angles[:,0])\n",
    "        filtered_pointcloud.normals = o3d.utility.Vector3dVector(self.points_normals_angles[:,1])\n",
    "        \n",
    "        o3d.visualization.draw_geometries([filtered_pointcloud], top = 30, left = 0, point_show_normal=False)\n",
    "        o3d.io.write_point_cloud(\"FilteredPointcloud.pcd\", filtered_pointcloud, False, False, True)\n",
    "        \n",
    "    def plot_histogram(self, hist, hist_edges, color_, label_):\n",
    "        plt.figure()\n",
    "        plt.plot(hist_edges[: -1], hist, color = color_, label = label_)        \n",
    "        plt.xlabel(\"Degrees\")\n",
    "        plt.ylabel(\"Vectors\")\n",
    "        plt.grid()\n",
    "        plt.legend()\n",
    "        plt.title(f\"{label_} Histogram\")\n",
    "        plt.show()\n",
    "    \n",
    "    def plot_histograms(self):\n",
    "        figure, subplots = plt.subplots(1,2)\n",
    "        subplots[0].plot(self.elevations_bin_edges[: -1], self.hist_elevations, color = \"green\", label = \"Elevations Histogram\")\n",
    "        subplots[1].plot(self.azimuths_bin_edges[: -1], self.hist_azimuths, color = \"red\", label = \"Azimuths Histogram\")       \n",
    "        figure.legend()\n",
    "        subplots[0].set(ylabel = \"Vectors\")\n",
    "        for subplot in subplots:\n",
    "            subplot.set(xlabel = \"Degrees\")            \n",
    "        #figure.show()\n",
    "        \n",
    "pointcloud_filter = PointcloudFilter()\n",
    "pointcloud_filter.extract_spherical_coordinates(pointcloud)\n",
    "pointcloud_filter.calculate_histograms(6)\n",
    "pointcloud_filter.plot_histograms()\n",
    "pointcloud_filter.filter_points(6)\n",
    "#pointcloud_filter.plot_histograms()\n",
    "#pointcloud_filter.calculate_histograms(6)\n",
    "#pointcloud_filter.plot_histograms()\n",
    "pointcloud_filter.save_filtered_pointcloud()\n"
   ]
  },
  {
   "cell_type": "code",
   "execution_count": null,
   "metadata": {},
   "outputs": [],
   "source": []
  }
 ],
 "metadata": {
  "kernelspec": {
   "display_name": "Python 3",
   "language": "python",
   "name": "python3"
  },
  "language_info": {
   "codemirror_mode": {
    "name": "ipython",
    "version": 3
   },
   "file_extension": ".py",
   "mimetype": "text/x-python",
   "name": "python",
   "nbconvert_exporter": "python",
   "pygments_lexer": "ipython3",
   "version": "3.8.3"
  }
 },
 "nbformat": 4,
 "nbformat_minor": 4
}
